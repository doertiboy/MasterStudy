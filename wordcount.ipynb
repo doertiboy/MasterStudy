{
 "cells": [
  {
   "cell_type": "code",
   "execution_count": 2,
   "metadata": {},
   "outputs": [],
   "source": [
    "# !pip install PyPDF2\n",
    "import PyPDF2"
   ]
  },
  {
   "cell_type": "code",
   "execution_count": 3,
   "metadata": {},
   "outputs": [],
   "source": [
    "file = open('../MasterThesis/thesis_template.pdf', 'rb')\n",
    "ReadPDF = PyPDF2.PdfReader(file)"
   ]
  },
  {
   "cell_type": "code",
   "execution_count": 4,
   "metadata": {},
   "outputs": [
    {
     "name": "stdout",
     "output_type": "stream",
     "text": [
      "pages: 59\n"
     ]
    }
   ],
   "source": [
    "pages = len(ReadPDF.pages)\n",
    "print(f'pages: {pages}')"
   ]
  },
  {
   "cell_type": "code",
   "execution_count": 5,
   "metadata": {},
   "outputs": [
    {
     "name": "stdout",
     "output_type": "stream",
     "text": [
      "14770\n",
      "passed\n"
     ]
    }
   ],
   "source": [
    "TWords = 0\n",
    "for i in range(7,47):\n",
    "    pageObj = ReadPDF.pages[i]\n",
    "    text = pageObj.extract_text()\n",
    "    TWords+=len(text.split())\n",
    "print (TWords)\n",
    "print('passed' if TWords < (15000 * 1.1) else 'failed')"
   ]
  },
  {
   "cell_type": "code",
   "execution_count": 6,
   "metadata": {},
   "outputs": [
    {
     "name": "stdout",
     "output_type": "stream",
     "text": [
      "15368\n",
      "passed\n"
     ]
    }
   ],
   "source": [
    "words = 1078 + 2001 + 6081 + 2690 + 2996 + 522\n",
    "print(words)\n",
    "print('passed' if words < (15000 * 1.1) else 'failed')"
   ]
  }
 ],
 "metadata": {
  "kernelspec": {
   "display_name": "base",
   "language": "python",
   "name": "python3"
  },
  "language_info": {
   "codemirror_mode": {
    "name": "ipython",
    "version": 3
   },
   "file_extension": ".py",
   "mimetype": "text/x-python",
   "name": "python",
   "nbconvert_exporter": "python",
   "pygments_lexer": "ipython3",
   "version": "3.11.5"
  }
 },
 "nbformat": 4,
 "nbformat_minor": 2
}
